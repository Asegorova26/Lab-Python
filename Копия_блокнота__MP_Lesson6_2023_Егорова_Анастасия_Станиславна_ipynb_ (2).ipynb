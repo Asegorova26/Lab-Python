{
  "nbformat": 4,
  "nbformat_minor": 0,
  "metadata": {
    "colab": {
      "provenance": []
    },
    "kernelspec": {
      "name": "python3",
      "display_name": "Python 3"
    },
    "language_info": {
      "name": "python"
    }
  },
  "cells": [
    {
      "cell_type": "markdown",
      "source": [
        "**Упражнение 1.** Распараллелить код с помощью dask.delayed. Оцените время работы кода до и после распараллеливания. Объясните результат."
      ],
      "metadata": {
        "id": "pnfqwkxMd7e3"
      }
    },
    {
      "cell_type": "code",
      "source": [
        "from time import sleep\n",
        "\n",
        "def inc(x):\n",
        "    sleep(1)\n",
        "    return x + 1\n",
        "\n",
        "def add(x, y):\n",
        "    sleep(1)\n",
        "    return x + y\n",
        "\n",
        "%time\n",
        "x = inc(1)\n",
        "y = inc(2)\n",
        "z = add(x, y)"
      ],
      "metadata": {
        "colab": {
          "base_uri": "https://localhost:8080/"
        },
        "id": "-ECI1xlCd7Gu",
        "outputId": "48157b54-08b2-4da0-e262-5b038becf060"
      },
      "execution_count": null,
      "outputs": [
        {
          "output_type": "stream",
          "name": "stdout",
          "text": [
            "CPU times: user 4 µs, sys: 0 ns, total: 4 µs\n",
            "Wall time: 7.87 µs\n"
          ]
        }
      ]
    },
    {
      "cell_type": "code",
      "source": [
        "from time import sleep\n",
        "\n",
        "def inc(x):\n",
        "    sleep(1)\n",
        "    return x + 1\n",
        "\n",
        "def add(x, y):\n",
        "    sleep(1)\n",
        "    return x + y\n",
        "\n",
        "%time\n",
        "x = inc(1)\n",
        "y = inc(2)\n",
        "z = add(x, y)\n"
      ],
      "metadata": {
        "colab": {
          "base_uri": "https://localhost:8080/"
        },
        "id": "uhsmE1SzxcKC",
        "outputId": "81612daa-a7f1-4f17-c6a3-7edd5c9dea00"
      },
      "execution_count": null,
      "outputs": [
        {
          "output_type": "stream",
          "name": "stdout",
          "text": [
            "CPU times: user 3 µs, sys: 0 ns, total: 3 µs\n",
            "Wall time: 4.77 µs\n"
          ]
        }
      ]
    },
    {
      "cell_type": "markdown",
      "source": [
        "с использованием dask.delayed  вызовы происходят быстрее, так как они работают параллельно\n"
      ],
      "metadata": {
        "id": "iq_kccRkxoNC"
      }
    },
    {
      "cell_type": "markdown",
      "source": [
        "**Упражнение 2.** Распараллелить код с помощью dask.delayed. Оцените время работы кода до и после распараллеливания. Объясните результат."
      ],
      "metadata": {
        "id": "5ex-0AkxeZ-H"
      }
    },
    {
      "cell_type": "code",
      "source": [
        "%time\n",
        "def double(x):\n",
        "    sleep(1)\n",
        "    return 2 * x\n",
        "\n",
        "def is_even(x):\n",
        "    return not x % 2\n",
        "\n",
        "data = [1, 2, 3, 4, 5, 6, 7, 8, 9, 10]\n",
        "\n",
        "results = []\n",
        "for x in data:\n",
        "    if is_even(x):\n",
        "        y = double(x)\n",
        "    else:\n",
        "        y = inc(x)\n",
        "    results.append(y)\n",
        "\n",
        "total = sum(results)\n",
        "print(total)"
      ],
      "metadata": {
        "colab": {
          "base_uri": "https://localhost:8080/"
        },
        "id": "b5lMybIyd-lP",
        "outputId": "8038bd39-eb70-43e9-feec-2834750af47c"
      },
      "execution_count": null,
      "outputs": [
        {
          "output_type": "stream",
          "name": "stdout",
          "text": [
            "CPU times: user 3 µs, sys: 0 ns, total: 3 µs\n",
            "Wall time: 9.3 µs\n",
            "90\n"
          ]
        }
      ]
    },
    {
      "cell_type": "code",
      "source": [
        "from dask import delayed\n",
        "from time import sleep\n",
        "\n",
        "%time\n",
        "def double(x):\n",
        "    sleep(1)\n",
        "    return 2 * x\n",
        "\n",
        "def is_even(x):\n",
        "    return not x % 2\n",
        "\n",
        "data = [1, 2, 3, 4, 5, 6, 7, 8, 9, 10]\n",
        "\n",
        "results = []\n",
        "for x in data:\n",
        "    if is_even(x):\n",
        "        y = delayed(double)(x)\n",
        "    else:\n",
        "        y = delayed(inc)(x)\n",
        "    results.append(y)\n"
      ],
      "metadata": {
        "colab": {
          "base_uri": "https://localhost:8080/"
        },
        "id": "G4sdrun_yApj",
        "outputId": "7cc112be-11c3-44f3-b354-dae2547a7e29"
      },
      "execution_count": null,
      "outputs": [
        {
          "output_type": "stream",
          "name": "stdout",
          "text": [
            "CPU times: user 3 µs, sys: 1 µs, total: 4 µs\n",
            "Wall time: 7.87 µs\n"
          ]
        }
      ]
    },
    {
      "cell_type": "markdown",
      "source": [
        "Как и в прошлом упражнении, даск позваляет работать параллельно"
      ],
      "metadata": {
        "id": "N0CZKjSPzOSg"
      }
    },
    {
      "cell_type": "markdown",
      "source": [
        "**Упражнение 3.** Использовать dask.bag.\n",
        "\n",
        "Мы будем использовать пакет Dask для расчета частот последовательностей по пять символов, а затем сортировать последовательности в порядке убывания частоты встреч.\n",
        "\n",
        "Реализуйте функцию group_characters(line, n=5) для группировки строки по n символов и возврата итератора. Строка — это текстовая строка в файле genome.txt.  (сгенерировать самостоятельно)"
      ],
      "metadata": {
        "id": "bU3jS6Ltgp_S"
      }
    },
    {
      "cell_type": "code",
      "source": [
        "# >>> line = \"abcdefghijklmno\"\n",
        "# >>> for seq in group_character(line, 5):\n",
        "#         print(seq)\n",
        "\n",
        "# \"abcde\"\n",
        "# \"efghi\"\n",
        "# \"klmno\""
      ],
      "metadata": {
        "id": "5ZF6KZ94euNo"
      },
      "execution_count": null,
      "outputs": []
    },
    {
      "cell_type": "markdown",
      "source": [
        "Реализовать group_and_split(line)"
      ],
      "metadata": {
        "id": "oaR0aRtYhn6z"
      }
    },
    {
      "cell_type": "code",
      "source": [
        "# >>> group_and_split('abcdefghijklmno')\n",
        "# ['abcde', 'fghij', 'klmno']"
      ],
      "metadata": {
        "id": "10_HlaPghi26"
      },
      "execution_count": null,
      "outputs": []
    },
    {
      "cell_type": "markdown",
      "source": [
        "Использовать dask.bag для вычисления частот встреч групп символов по 5 и отсортировать по ней."
      ],
      "metadata": {
        "id": "sST6lDgnhu4G"
      }
    },
    {
      "cell_type": "code",
      "source": [
        "%%writefile genome.txt\n",
        "aaaaaaabbbbbbeeubkashdakhghhhhhhh"
      ],
      "metadata": {
        "colab": {
          "base_uri": "https://localhost:8080/"
        },
        "id": "e94_S00i2khX",
        "outputId": "10a8603a-4bc0-4fda-a543-8ac79e3726e0"
      },
      "execution_count": null,
      "outputs": [
        {
          "output_type": "stream",
          "name": "stdout",
          "text": [
            "Writing genome.txt\n"
          ]
        }
      ]
    },
    {
      "cell_type": "code",
      "source": [
        "from dask import bag as db\n",
        "\n",
        "def group_and_split(line):\n",
        "    return [line[i:i+5] for i in range(0, len(line), 5)]\n",
        "\n",
        "genome_bag = db.read_text('genome.txt')\n",
        "\n",
        "sequences_bag = genome_bag.map(group_and_split).flatten()\n",
        "\n",
        "frequencies = sequences_bag.frequencies()\n",
        "\n",
        "sorted_sequences = frequencies.compute()\n",
        "sorted_sequences = sorted(sorted_sequences, key=lambda x: x[1], reverse=True)\n",
        "\n",
        "print(sorted_sequences)\n"
      ],
      "metadata": {
        "colab": {
          "base_uri": "https://localhost:8080/"
        },
        "id": "A1FTtr9Y2lQe",
        "outputId": "ffe4cfd9-bc1d-4ff7-efb3-7ef0dcf0717b"
      },
      "execution_count": null,
      "outputs": [
        {
          "output_type": "stream",
          "name": "stdout",
          "text": [
            "[('aaaaa', 1), ('aabbb', 1), ('bbbee', 1), ('ubkas', 1), ('hdakh', 1), ('ghhhh', 1), ('hhh\\n', 1)]\n"
          ]
        }
      ]
    },
    {
      "cell_type": "markdown",
      "source": [
        "**Упражнение 4.** Использовать dask.array\n",
        "\n",
        "Вычислите сумму, произведение и среднее значение двумерного квадратного массива (сгенерировать случайно) из 1_000_000 элементов в каждом измерении.\n",
        "\n",
        "1) с помощью dask (определить самостоятельно разбиение на блоки)\n",
        "\n",
        "2) без dask\n",
        "\n",
        "Измерить время"
      ],
      "metadata": {
        "id": "vbz05xgriKOd"
      }
    },
    {
      "cell_type": "markdown",
      "source": [
        "С помощью Dask"
      ],
      "metadata": {
        "id": "s0kl5xc03VaK"
      }
    },
    {
      "cell_type": "code",
      "source": [
        "import dask.array as da\n",
        "import numpy as np\n",
        "import time\n",
        "\n",
        "np.random.seed(0)\n",
        "arr = np.random.rand(1000, 1000)\n",
        "\n",
        "darr = da.from_array(arr, chunks=(100, 100))\n",
        "\n",
        "start_time = time.time()\n",
        "total_sum = darr.sum().compute()\n",
        "total_prod = darr.prod().compute()\n",
        "total_mean = darr.mean().compute()\n",
        "dask_time = time.time() - start_time\n",
        "\n",
        "print(\"Сумма:\", total_sum)\n",
        "print(\"Произведение:\", total_prod)\n",
        "print(\"Среднее значение:\", total_mean)\n",
        "print(\"Время выполнения с Dask:\", dask_time)\n",
        "\n"
      ],
      "metadata": {
        "colab": {
          "base_uri": "https://localhost:8080/"
        },
        "id": "FkmKVjwn3PCF",
        "outputId": "cf528f42-a45e-419c-9286-1120d644d193"
      },
      "execution_count": null,
      "outputs": [
        {
          "output_type": "stream",
          "name": "stdout",
          "text": [
            "Сумма: 500387.69812077296\n",
            "Произведение: 0.0\n",
            "Среднее значение: 0.500387698120773\n",
            "Время выполнения с Dask: 0.44981932640075684\n"
          ]
        }
      ]
    },
    {
      "cell_type": "markdown",
      "source": [
        "без dask\n"
      ],
      "metadata": {
        "id": "vOdnkyxE9yeD"
      }
    },
    {
      "cell_type": "code",
      "source": [
        "import numpy as np\n",
        "import time\n",
        "\n",
        "np.random.seed(0)\n",
        "arr = np.random.rand(1000, 1000)\n",
        "\n",
        "start_time = time.time()\n",
        "total_sum_no_dask = arr.sum()\n",
        "total_prod_no_dask = arr.prod()\n",
        "total_mean_no_dask = arr.mean()\n",
        "no_dask_time = time.time() - start_time\n",
        "\n",
        "print(\"Сумма (без Dask):\", total_sum_no_dask)\n",
        "print(\"Произведение (без Dask):\", total_prod_no_dask)\n",
        "print(\"Среднее значение (без Dask):\", total_mean_no_dask)\n",
        "print(\"Время выполнения без Dask:\", no_dask_time)\n"
      ],
      "metadata": {
        "colab": {
          "base_uri": "https://localhost:8080/"
        },
        "id": "hTVlGuSc90oF",
        "outputId": "8f9322f3-c7ee-4dd8-e6f2-cceb13cd5ef6"
      },
      "execution_count": null,
      "outputs": [
        {
          "output_type": "stream",
          "name": "stdout",
          "text": [
            "Сумма (без Dask): 500387.69812077284\n",
            "Произведение (без Dask): 0.0\n",
            "Среднее значение (без Dask): 0.5003876981207729\n",
            "Время выполнения без Dask: 0.005124807357788086\n"
          ]
        }
      ]
    },
    {
      "cell_type": "markdown",
      "source": [
        "**Упражнение 5.**\n",
        "\n",
        "Постройте массив 20000x20000 нормально распределенных случайных значений (random), разбитых на фрагменты размером 1000x1000\n",
        "Возьмите среднее по одной оси\n",
        "Возьмите каждый 100-й элемент\n",
        "\n",
        "Сделайте задание в двух вариантах:\n",
        "\n",
        "1) dask\n",
        "\n",
        "2) numpy\n",
        "\n",
        "Измерите время и объясните результат."
      ],
      "metadata": {
        "id": "eCr1670Yi57g"
      }
    },
    {
      "cell_type": "code",
      "source": [
        "import dask.array as da\n",
        "import numpy as np\n",
        "import time\n",
        "\n",
        "# Создание dask.array с нормально распределенными случайными значениями\n",
        "darr = da.random.normal(size=(20000, 20000), chunks=(1000, 1000))\n",
        "\n",
        "# Взятие среднего по одной оси\n",
        "mean_axis = darr.mean(axis=0)\n",
        "\n",
        "# Взятие каждого 100-го элемента\n",
        "every_100th = mean_axis[::100]\n",
        "\n",
        "start_time = time.time()\n",
        "\n",
        "# Вычисление среднего по одной оси и взятие каждого 100-го элемента\n",
        "mean_axis_result = mean_axis.compute()\n",
        "every_100th_result = every_100th.compute()\n",
        "\n",
        "dask_time = time.time() - start_time\n",
        "\n",
        "print(\"Время выполнения с использованием Dask:\", dask_time)\n",
        "print(\"Среднее по оси:\", mean_axis_result)\n",
        "print(\"Каждый 100-й элемент:\", every_100th_result)\n"
      ],
      "metadata": {
        "id": "w7KiyhzUhrD6",
        "colab": {
          "base_uri": "https://localhost:8080/"
        },
        "outputId": "0a661799-eff8-4372-9427-046f3aa5f9f0"
      },
      "execution_count": null,
      "outputs": [
        {
          "output_type": "stream",
          "name": "stdout",
          "text": [
            "Время выполнения с использованием Dask: 27.777061939239502\n",
            "Среднее по оси: [0.01032194 0.00192772 0.01033618 ... 0.0011871  0.00853695 0.01125547]\n",
            "Каждый 100-й элемент: [ 1.03219386e-02  3.61352801e-03  7.85747844e-03 -1.99830483e-03\n",
            " -1.22114032e-03 -9.21978817e-03  2.45115504e-03 -1.26228024e-03\n",
            "  9.82954633e-03  2.54847386e-04  4.50867451e-03  6.37548786e-04\n",
            "  5.88822032e-03 -3.04483169e-03 -1.85919481e-04 -1.54498411e-02\n",
            "  2.43991344e-03  4.50937911e-03  1.91257179e-03  6.96725413e-03\n",
            "  1.15080765e-02 -2.20788594e-03  1.99110805e-02 -1.26084034e-02\n",
            " -9.50492976e-03  7.56060277e-03 -6.35389534e-03 -5.95274277e-03\n",
            " -4.61721612e-03 -7.58199973e-04  2.24503039e-03 -3.73826373e-03\n",
            "  8.09223089e-03 -1.17938199e-02 -1.13276117e-02  1.73815555e-03\n",
            " -2.55212922e-03 -1.39635320e-02  4.49867406e-03  1.21208053e-04\n",
            "  2.60335977e-03  1.48846157e-03 -2.00317297e-03  8.69437316e-03\n",
            "  7.84006330e-03  1.18212703e-02 -7.37592528e-04  1.04126292e-02\n",
            "  6.90348887e-03 -6.64384550e-03  4.16046303e-04 -1.00041381e-02\n",
            " -9.84570735e-03 -5.58551636e-03 -1.84974088e-02 -9.37722412e-04\n",
            " -5.25367758e-03 -3.68897164e-03  1.02320826e-02  2.21340471e-03\n",
            "  3.84479582e-03  5.41498526e-03  8.84392865e-03 -5.21240624e-03\n",
            " -2.06094041e-03 -5.80622278e-03  2.65977221e-03  4.78634273e-03\n",
            " -4.19654496e-03 -1.25340018e-02 -6.33296298e-03 -8.52770296e-04\n",
            "  1.16856010e-02 -1.95069687e-02 -7.29515892e-03 -3.90818934e-03\n",
            "  3.26245288e-03 -4.91822941e-03 -6.34752230e-03 -4.92560887e-03\n",
            " -2.17848570e-03  1.20383099e-02 -1.06358858e-02 -8.27837139e-03\n",
            "  9.06404486e-04 -3.68273711e-03 -1.88672024e-02  2.65880900e-03\n",
            " -9.19252346e-04  6.46961980e-03  4.35801206e-03  2.37329222e-03\n",
            "  1.59779034e-02  9.93640165e-04  7.59583506e-03  2.37839938e-03\n",
            "  4.93602486e-04 -4.45076053e-03  3.62118367e-03 -3.84971897e-03\n",
            "  8.66384539e-03 -1.12932879e-03  1.73039567e-03  1.13171294e-02\n",
            "  7.57774905e-03 -1.07571947e-02  3.33123084e-03  2.75031250e-03\n",
            " -3.83508217e-03  5.84752376e-03 -8.28024963e-04 -1.21761112e-02\n",
            " -6.72983027e-03 -3.22352760e-03 -6.86880976e-03 -9.46209908e-03\n",
            " -2.64658604e-03  1.15012912e-03 -8.50529398e-03  3.63651027e-03\n",
            "  4.58467264e-03  9.47415194e-03 -1.91997986e-03  5.56144414e-04\n",
            "  6.17684322e-03 -7.92393746e-03 -7.85560305e-03  1.47259590e-03\n",
            "  9.81991126e-03  2.67354778e-03 -1.57767564e-03 -3.10802811e-03\n",
            "  2.18900301e-03 -3.41323081e-03  5.09480560e-03  4.31914724e-03\n",
            " -1.09956606e-02 -1.60251530e-03 -1.78106913e-03 -6.60794590e-04\n",
            "  1.82832694e-03  2.81025966e-03  1.09242209e-02 -1.71403758e-03\n",
            "  7.52268739e-03 -4.53487886e-03  1.00162444e-03 -9.81779028e-03\n",
            " -7.87991775e-03  8.74628388e-05  4.52202446e-03  1.23010830e-04\n",
            "  8.90698145e-03  6.86468012e-03 -1.32069829e-04  3.17523029e-03\n",
            " -6.59371951e-03 -4.21110500e-03 -3.03941431e-04  4.31640765e-03\n",
            "  1.30508565e-02  1.07633484e-02  5.43675585e-03 -6.91159928e-03\n",
            " -2.44920512e-03 -1.05277625e-02  7.84379032e-03  2.17685435e-03\n",
            "  9.69251417e-03 -1.06666458e-02 -2.92345126e-03 -5.04599289e-03\n",
            "  6.94390954e-03  8.77712538e-03  4.48853341e-03 -1.07249829e-02\n",
            "  2.83583161e-03 -2.69462291e-04  9.61239633e-03  4.32890849e-03\n",
            " -5.10119499e-03  5.53040634e-03 -2.78511187e-03 -1.99913941e-03\n",
            " -5.27311380e-03  6.44019920e-03 -3.78888307e-03  8.27125683e-04\n",
            " -9.16332155e-04  6.54494819e-03 -1.01454512e-02 -8.23099375e-03\n",
            " -1.02167644e-03 -1.15741386e-04  9.97198464e-03 -2.69981407e-03\n",
            " -4.53845248e-03 -3.82081858e-03 -1.04162719e-02  4.68080878e-03]\n"
          ]
        }
      ]
    },
    {
      "cell_type": "code",
      "source": [
        "import numpy as np\n",
        "import time\n",
        "\n",
        "# Создание массива с нормально распределенными случайными значениями\n",
        "arr = np.random.normal(size=(20000, 20000))\n",
        "\n",
        "# Взятие среднего по одной оси\n",
        "mean_axis = np.mean(arr, axis=0)\n",
        "\n",
        "# Взятие каждого 100-го элемента\n",
        "every_100th = mean_axis[::100]\n",
        "\n",
        "start_time = time.time()\n",
        "\n",
        "# Вычисление среднего по одной оси и взятие каждого 100-го элемента\n",
        "mean_axis_result = np.mean(arr, axis=0)\n",
        "every_100th_result = every_100th\n",
        "\n",
        "numpy_time = time.time() - start_time\n",
        "\n",
        "print(\"Время выполнения без использования Dask:\", numpy_time)\n",
        "print(\"Среднее по оси:\", mean_axis_result)\n",
        "print(\"Каждый 100-й элемент:\", every_100th_result)\n"
      ],
      "metadata": {
        "colab": {
          "base_uri": "https://localhost:8080/"
        },
        "id": "IOZ7xRIPA3_N",
        "outputId": "fd534286-4745-4e6a-eba9-5bffa4543f95"
      },
      "execution_count": null,
      "outputs": [
        {
          "output_type": "stream",
          "name": "stdout",
          "text": [
            "Время выполнения без использования Dask: 0.33692097663879395\n",
            "Среднее по оси: [-0.00769599  0.00090994 -0.00219981 ...  0.00059123 -0.00464151\n",
            "  0.00252518]\n",
            "Каждый 100-й элемент: [-7.69598928e-03 -3.56156604e-04 -1.24934045e-03 -3.20410095e-03\n",
            "  7.30299499e-03 -1.65431827e-03 -1.59724819e-03 -4.44929247e-03\n",
            "  2.03355002e-03 -3.61419162e-03 -7.35124019e-03 -6.55411189e-03\n",
            "  1.79452679e-03 -1.47024025e-02 -3.62473646e-03 -3.63581978e-03\n",
            "  1.50603252e-03 -7.30954884e-03  7.04675309e-03  2.09252880e-03\n",
            " -7.40350015e-04  3.12178974e-03 -4.13175831e-03 -5.45404368e-03\n",
            "  1.83261065e-04  7.69336849e-03  5.22867924e-04 -6.95753721e-03\n",
            "  2.79781536e-03  4.80354897e-03  3.34342095e-03 -1.08121346e-02\n",
            " -6.60956660e-03  6.57305820e-03  4.99931466e-03  6.13911950e-03\n",
            "  2.74669560e-04 -1.48826694e-03  2.18196714e-03  2.13221715e-02\n",
            "  2.50825097e-02  7.04435762e-03  1.05399244e-02 -3.21513260e-05\n",
            "  1.16250293e-02 -4.82883072e-03  8.08919835e-03  3.46156161e-03\n",
            "  9.56914764e-03 -6.10575322e-03 -4.77657388e-04 -6.81595919e-03\n",
            "  6.44690666e-04 -4.94085664e-03  6.41997058e-03 -3.79891499e-04\n",
            " -5.84681906e-03  9.64939731e-05 -9.22047780e-03  5.11676791e-03\n",
            "  8.29461501e-03  1.04979417e-02 -6.56913391e-03 -1.03168180e-03\n",
            "  1.39923133e-04 -1.09279117e-02  1.33558577e-02 -3.34163209e-03\n",
            " -1.15185482e-02  5.77009800e-03  1.35298692e-03 -1.94231948e-02\n",
            " -1.32569020e-03 -5.65970809e-03 -3.78698542e-03 -1.45078085e-03\n",
            " -6.34305891e-03 -2.64997569e-03 -7.39269689e-03 -8.12618951e-03\n",
            " -1.03120214e-02 -2.17619437e-03  9.76978896e-03 -7.78035238e-03\n",
            " -4.80033234e-03 -1.99063329e-03 -1.44054742e-02 -2.74075984e-03\n",
            " -8.81941248e-04  9.46583276e-03 -6.72133621e-03 -3.90162713e-03\n",
            " -1.05841321e-02  3.58852401e-03  7.65652302e-03  9.16545776e-04\n",
            " -9.20913678e-03  2.59648627e-03 -4.81994712e-03  5.64971208e-03\n",
            "  4.99398059e-04 -4.11027272e-04 -2.49697959e-03  6.37049937e-03\n",
            "  4.97374434e-03 -2.26909386e-03  8.94226986e-03  3.88293880e-03\n",
            " -1.54752855e-03  8.09969300e-03  7.94737056e-03 -8.19099560e-04\n",
            "  1.35728125e-03 -3.83275621e-03  4.73231002e-03 -6.45978323e-03\n",
            " -2.43997446e-03 -1.14965317e-02  4.20824374e-03  8.89807808e-04\n",
            " -3.81985802e-03 -7.06975380e-03 -1.35088603e-04 -5.37131366e-03\n",
            "  7.89923649e-03 -3.03908938e-03  9.36099362e-03 -9.05163806e-03\n",
            " -2.74824140e-03  2.04810179e-03  8.78368407e-04  1.32012497e-02\n",
            "  3.84797572e-03  1.63385451e-03  1.15118419e-03  2.01594775e-02\n",
            " -6.42632520e-03 -2.37429714e-03  1.01533185e-03 -1.20694054e-02\n",
            "  2.40800313e-02  1.84684096e-03  1.33896456e-02  8.94340437e-03\n",
            " -1.25239423e-02  4.24517006e-03 -6.31352367e-04 -9.13553386e-03\n",
            "  1.71557020e-03 -1.49109651e-03 -3.73280547e-03  2.24288696e-03\n",
            "  6.41652306e-03 -1.55422266e-02 -9.73297860e-03  1.39642212e-02\n",
            " -1.36100497e-02  8.95474701e-03 -5.19305030e-03  7.17390099e-03\n",
            " -1.81591984e-03 -6.57835400e-03  2.93790758e-03 -7.48251454e-03\n",
            " -1.14524485e-02  4.98664485e-03  5.11144485e-03 -2.42619466e-03\n",
            "  1.09586854e-03  2.82661922e-03  3.24023183e-03 -4.45926266e-03\n",
            " -2.92686023e-03  1.01726500e-02  9.92863655e-03 -4.91519220e-03\n",
            " -9.45940293e-04  5.32887234e-03 -6.03454678e-03  2.88605966e-03\n",
            " -3.13231241e-04  1.77027526e-04 -1.21680588e-02 -1.37421649e-02\n",
            " -3.50406388e-03 -9.22798504e-03 -3.54603485e-03  1.46204371e-03\n",
            "  2.19152049e-03  3.92154873e-03 -4.71016772e-03 -4.43103215e-03\n",
            "  1.90935614e-03 -3.84398965e-03  7.69070844e-04  7.98659592e-04\n",
            "  5.78898107e-03  8.70519272e-04  1.05938650e-03 -9.44239762e-03]\n"
          ]
        }
      ]
    }
  ]
}