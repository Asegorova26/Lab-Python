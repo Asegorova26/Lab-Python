{
  "cells": [
    {
      "cell_type": "markdown",
      "metadata": {
        "id": "p2JZt1GL5D6W"
      },
      "source": [
        "# Introduction to CUDA and PyCUDA"
      ]
    },
    {
      "cell_type": "code",
      "execution_count": null,
      "metadata": {
        "id": "FA_YN7HlGRP5",
        "colab": {
          "base_uri": "https://localhost:8080/"
        },
        "outputId": "e60890d5-5338-4187-ff3d-167be7b82061"
      },
      "outputs": [
        {
          "output_type": "stream",
          "name": "stdout",
          "text": [
            "Requirement already satisfied: pycuda in /usr/local/lib/python3.10/dist-packages (2024.1)\n",
            "Requirement already satisfied: pytools>=2011.2 in /usr/local/lib/python3.10/dist-packages (from pycuda) (2024.1.1)\n",
            "Requirement already satisfied: appdirs>=1.4.0 in /usr/local/lib/python3.10/dist-packages (from pycuda) (1.4.4)\n",
            "Requirement already satisfied: mako in /usr/local/lib/python3.10/dist-packages (from pycuda) (1.3.3)\n",
            "Requirement already satisfied: platformdirs>=2.2.0 in /usr/local/lib/python3.10/dist-packages (from pytools>=2011.2->pycuda) (4.2.0)\n",
            "Requirement already satisfied: typing-extensions>=4.0 in /usr/local/lib/python3.10/dist-packages (from pytools>=2011.2->pycuda) (4.11.0)\n",
            "Requirement already satisfied: MarkupSafe>=0.9.2 in /usr/local/lib/python3.10/dist-packages (from mako->pycuda) (2.1.5)\n"
          ]
        }
      ],
      "source": [
        "!pip install pycuda # install cuda\n",
        "import pycuda.driver as cuda\n",
        "import pycuda.autoinit\n",
        "from pycuda.compiler import SourceModule"
      ]
    },
    {
      "cell_type": "code",
      "execution_count": null,
      "metadata": {
        "id": "-g92eSBn5FlC"
      },
      "outputs": [],
      "source": [
        "import numpy\n",
        "numpy.random.seed(1729)\n",
        "a = numpy.random.randn(4,4)"
      ]
    },
    {
      "cell_type": "code",
      "execution_count": null,
      "metadata": {
        "id": "Bqm9uTBzJf9X"
      },
      "outputs": [],
      "source": [
        "a = a.astype(numpy.float32)"
      ]
    },
    {
      "cell_type": "code",
      "execution_count": null,
      "metadata": {
        "id": "92L9E7WkJhsy"
      },
      "outputs": [],
      "source": [
        "a_gpu = cuda.mem_alloc(a.nbytes)"
      ]
    },
    {
      "cell_type": "code",
      "execution_count": null,
      "metadata": {
        "id": "b1xaAt_NJjSb"
      },
      "outputs": [],
      "source": [
        "cuda.memcpy_htod(a_gpu, a)\n"
      ]
    },
    {
      "cell_type": "code",
      "execution_count": null,
      "metadata": {
        "id": "bSAkS6e2Jk38"
      },
      "outputs": [],
      "source": [
        "mod = SourceModule(\"\"\"\n",
        "  __global__ void doublify(float *a)\n",
        "  {\n",
        "    int idx = threadIdx.x + threadIdx.y*4;\n",
        "    a[idx] *= 2;\n",
        "  }\n",
        "  \"\"\")"
      ]
    },
    {
      "cell_type": "code",
      "execution_count": null,
      "metadata": {
        "id": "fBQ0blkNJnIg"
      },
      "outputs": [],
      "source": [
        "func = mod.get_function(\"doublify\")\n",
        "func(a_gpu, block=(4,4,1))"
      ]
    },
    {
      "cell_type": "code",
      "execution_count": null,
      "metadata": {
        "id": "_ef82NDPJqWV",
        "colab": {
          "base_uri": "https://localhost:8080/"
        },
        "outputId": "6d0a8278-2618-4cf7-d00d-9e23fb1caa65"
      },
      "outputs": [
        {
          "output_type": "stream",
          "name": "stdout",
          "text": [
            "[[-1.3746789  -1.6419895   3.3047218  -1.1505861 ]\n",
            " [ 2.1979356   1.8518921  -1.9868276  -1.7164422 ]\n",
            " [ 0.14977352  1.058711    0.2419031  -0.44884723]\n",
            " [-3.113357    0.11188176  0.32294306 -4.2692833 ]]\n",
            "[[-0.6873394  -0.82099473  1.6523609  -0.57529306]\n",
            " [ 1.0989678   0.92594606 -0.9934138  -0.8582211 ]\n",
            " [ 0.07488676  0.5293555   0.12095155 -0.22442362]\n",
            " [-1.5566785   0.05594088  0.16147153 -2.1346416 ]]\n"
          ]
        }
      ],
      "source": [
        "a_doubled = numpy.empty_like(a)\n",
        "cuda.memcpy_dtoh(a_doubled, a_gpu)\n",
        "print(a_doubled)\n",
        "print(a)"
      ]
    },
    {
      "cell_type": "code",
      "execution_count": null,
      "metadata": {
        "id": "kXx_p97mJs4Z"
      },
      "outputs": [],
      "source": [
        "b = numpy.random.randn(4,4)\n",
        "b = b.astype(numpy.float32)\n",
        "c = numpy.random.randn(4,4)\n",
        "c = c.astype(numpy.float32)"
      ]
    },
    {
      "cell_type": "code",
      "execution_count": null,
      "metadata": {
        "id": "cQYD348qKgva"
      },
      "outputs": [],
      "source": [
        "mod2 = SourceModule(\"\"\"\n",
        "  __global__ void add2(float *a, float *b)\n",
        "  {\n",
        "    int idx = threadIdx.x + threadIdx.y*4;\n",
        "    a[idx] += b[idx];\n",
        "  }\n",
        "  \"\"\")"
      ]
    },
    {
      "cell_type": "code",
      "execution_count": null,
      "metadata": {
        "id": "Vs_5Hb-6Kr-C"
      },
      "outputs": [],
      "source": [
        "b_gpu = cuda.mem_alloc(b.nbytes)\n",
        "c_gpu = cuda.mem_alloc(c.nbytes)\n",
        "\n",
        "cuda.memcpy_htod(b_gpu, b)\n",
        "cuda.memcpy_htod(c_gpu, c)\n"
      ]
    },
    {
      "cell_type": "code",
      "execution_count": null,
      "metadata": {
        "id": "WwA4tpOtLE5_"
      },
      "outputs": [],
      "source": [
        "func = mod2.get_function(\"add2\")\n",
        "func(b_gpu,c_gpu, block=(4,4,1))"
      ]
    },
    {
      "cell_type": "code",
      "execution_count": null,
      "metadata": {
        "id": "0zN8iBYDM_00",
        "colab": {
          "base_uri": "https://localhost:8080/"
        },
        "outputId": "9e3d25bc-c35f-4581-ae4e-4cbcde3bc6e9"
      },
      "outputs": [
        {
          "output_type": "stream",
          "name": "stdout",
          "text": [
            "[[-0.5257741   0.447586    1.5295702   0.39143866]\n",
            " [ 3.3902154  -2.549993   -1.6982892  -0.2884755 ]\n",
            " [-1.2885619  -1.2470585  -1.3161025   1.1179583 ]\n",
            " [-2.862448   -0.38533747 -0.0221602  -0.24921691]]\n",
            "[[ 0.10967004  0.44301215  0.39626622  0.2497974 ]\n",
            " [ 1.2984973  -1.2804337  -0.97546583 -0.26908663]\n",
            " [-1.1057384  -0.1279927  -0.61782736 -0.98912627]\n",
            " [-2.8598924  -0.7943475  -0.30579695  1.7006376 ]]\n",
            "[[-0.63544416  0.00457387  1.133304    0.14164127]\n",
            " [ 2.091718   -1.2695593  -0.7228234  -0.01938889]\n",
            " [-0.18282357 -1.1190658  -0.6982751   2.1070845 ]\n",
            " [-0.0025556   0.40901005  0.28363675 -1.9498545 ]]\n"
          ]
        }
      ],
      "source": [
        "added = numpy.empty_like(b)\n",
        "cuda.memcpy_dtoh(added, b_gpu)\n",
        "print(added)\n",
        "print(b)\n",
        "print(c)"
      ]
    },
    {
      "cell_type": "markdown",
      "metadata": {
        "id": "vJBVoR8ANgx5"
      },
      "source": [
        "# Exercises\n",
        "\n",
        "1. Write a cuda kernel to find the elementwise square of a matrix\n",
        "2. Write a cuda kernel to find a matrix, which when added to the given matrix results in every element being equal to zero\n",
        "3. Write a cuda kernel to multiply two matrices:\n",
        "    1. Assume square matrices, with dimensions < 1024\n",
        "    2. Assume square matrices, with dimensions > 1024\n",
        "    3. Assume non-square matrices, with dimensions > 1024"
      ]
    },
    {
      "cell_type": "markdown",
      "source": [
        "Вопрос первый"
      ],
      "metadata": {
        "id": "zW9okYFpj-9Q"
      }
    },
    {
      "cell_type": "code",
      "execution_count": null,
      "metadata": {
        "id": "ZBYr6BUWNuLe"
      },
      "outputs": [],
      "source": [
        "mod3 = SourceModule(\"\"\"\n",
        "  __global__ void square2(float *a, int size)\n",
        "  {\n",
        "    int idx = threadIdx.x + threadIdx.y*size;\n",
        "    a[idx] *= a[idx];\n",
        "  }\n",
        "  \"\"\")"
      ]
    },
    {
      "cell_type": "code",
      "source": [
        "size = 7\n",
        "\n",
        "numpy.random.seed(945)\n",
        "d = numpy.random.randn(size,size)\n",
        "d = d.astype(numpy.float32)"
      ],
      "metadata": {
        "id": "x0g03JlYneMf"
      },
      "execution_count": null,
      "outputs": []
    },
    {
      "cell_type": "code",
      "source": [
        "d_gpu = cuda.mem_alloc(d.nbytes)\n",
        "cuda.memcpy_htod(d_gpu, d)"
      ],
      "metadata": {
        "id": "DUIhTRfHnitC"
      },
      "execution_count": null,
      "outputs": []
    },
    {
      "cell_type": "code",
      "source": [
        "func = mod3.get_function(\"square2\")\n",
        "func(d_gpu, numpy.int32(size), block=(size,size,1))"
      ],
      "metadata": {
        "id": "JoIy4z3OnkHL"
      },
      "execution_count": null,
      "outputs": []
    },
    {
      "cell_type": "code",
      "source": [
        "squared = numpy.empty_like(d)\n",
        "cuda.memcpy_dtoh(squared, d_gpu)"
      ],
      "metadata": {
        "id": "E1HrdcVwnonW"
      },
      "execution_count": null,
      "outputs": []
    },
    {
      "cell_type": "code",
      "source": [
        "#print(d)\n",
        "#print(squared)\n",
        "\n",
        "print(numpy.max(numpy.abs(squared - d*d)))"
      ],
      "metadata": {
        "colab": {
          "base_uri": "https://localhost:8080/"
        },
        "id": "KkY4KSr3nogB",
        "outputId": "e6ebf8f1-b4b2-48f5-83f8-7693d7254b24"
      },
      "execution_count": null,
      "outputs": [
        {
          "output_type": "stream",
          "name": "stdout",
          "text": [
            "0.0\n"
          ]
        }
      ]
    },
    {
      "cell_type": "markdown",
      "source": [
        "Вопрос второй"
      ],
      "metadata": {
        "id": "dvx5YxY6nvjN"
      }
    },
    {
      "cell_type": "code",
      "source": [
        "mod4 = SourceModule(\"\"\"\n",
        "  __global__ void minus(float *a, int size)\n",
        "  {\n",
        "    int idx = threadIdx.x + threadIdx.y*size;\n",
        "    a[idx] = -a[idx];\n",
        "  }\n",
        "  \"\"\")"
      ],
      "metadata": {
        "id": "gMha-L8WnoZx"
      },
      "execution_count": null,
      "outputs": []
    },
    {
      "cell_type": "code",
      "source": [
        "size = 7\n",
        "\n",
        "numpy.random.seed(9574)\n",
        "d = numpy.random.randn(size,size)\n",
        "d = d.astype(numpy.float32)"
      ],
      "metadata": {
        "id": "DyyVvKAtnoUT"
      },
      "execution_count": null,
      "outputs": []
    },
    {
      "cell_type": "code",
      "source": [
        "d_gpu = cuda.mem_alloc(d.nbytes)\n",
        "cuda.memcpy_htod(d_gpu, d)"
      ],
      "metadata": {
        "id": "1uaPc8qVoRXC"
      },
      "execution_count": null,
      "outputs": []
    },
    {
      "cell_type": "code",
      "source": [
        "func = mod4.get_function(\"minus\")\n",
        "func(d_gpu, numpy.int32(size), block=(size,size,1))"
      ],
      "metadata": {
        "id": "XCkujxxSoROu"
      },
      "execution_count": null,
      "outputs": []
    },
    {
      "cell_type": "code",
      "source": [
        "complement = numpy.empty_like(d)\n",
        "cuda.memcpy_dtoh(complement, d_gpu)"
      ],
      "metadata": {
        "id": "nWPkzoOdoVoE"
      },
      "execution_count": null,
      "outputs": []
    },
    {
      "cell_type": "code",
      "source": [
        "#print(d)\n",
        "#print(complement)\n",
        "\n",
        "print(numpy.max(numpy.abs(d + complement)))"
      ],
      "metadata": {
        "colab": {
          "base_uri": "https://localhost:8080/"
        },
        "id": "3U6Gc_eboXn1",
        "outputId": "9cd4729d-164c-4d65-cbd9-37b783ea4525"
      },
      "execution_count": null,
      "outputs": [
        {
          "output_type": "stream",
          "name": "stdout",
          "text": [
            "0.0\n"
          ]
        }
      ]
    },
    {
      "cell_type": "markdown",
      "source": [
        "Вопрос третий\n",
        "A"
      ],
      "metadata": {
        "id": "mj0mQuP3ozr-"
      }
    },
    {
      "cell_type": "code",
      "source": [
        "mod5 = SourceModule(\"\"\"\n",
        "  __global__ void multiplyA(float *a, float *b, float *c, int size)\n",
        "  {\n",
        "    int row = threadIdx.x;\n",
        "    int col = threadIdx.y;\n",
        "\n",
        "    c[col + row * size] = 0;\n",
        "    for(int i=0; i<size; ++i){\n",
        "        c[col + row * size] += a[i + row * size] * b[col + i * size];\n",
        "    }\n",
        "  }\n",
        "  \"\"\")"
      ],
      "metadata": {
        "id": "pGcnacbto1aN"
      },
      "execution_count": null,
      "outputs": []
    },
    {
      "cell_type": "code",
      "source": [
        "size = 8\n",
        "\n",
        "numpy.random.seed(9574)\n",
        "\n",
        "a = numpy.random.randn(size,size)\n",
        "a = a.astype(numpy.float32)\n",
        "\n",
        "b = numpy.random.randn(size,size)\n",
        "b = b.astype(numpy.float32)\n",
        "\n",
        "c = numpy.empty_like(a)\n",
        "c = c.astype(numpy.float32)"
      ],
      "metadata": {
        "id": "6gQf-GT4ywxY"
      },
      "execution_count": null,
      "outputs": []
    },
    {
      "cell_type": "code",
      "source": [
        "a_gpu = cuda.mem_alloc(a.nbytes)\n",
        "cuda.memcpy_htod(a_gpu, a)\n",
        "\n",
        "b_gpu = cuda.mem_alloc(b.nbytes)\n",
        "cuda.memcpy_htod(b_gpu, b)\n",
        "\n",
        "c_gpu = cuda.mem_alloc(c.nbytes)"
      ],
      "metadata": {
        "id": "zjzHS7BOywiW"
      },
      "execution_count": null,
      "outputs": []
    },
    {
      "cell_type": "code",
      "source": [
        "func = mod5.get_function(\"multiplyA\")\n",
        "func(a_gpu, b_gpu, c_gpu, numpy.int32(size), block=(size,size,1))"
      ],
      "metadata": {
        "id": "cWo3mFdlywVy"
      },
      "execution_count": null,
      "outputs": []
    },
    {
      "cell_type": "code",
      "source": [
        "cuda.memcpy_dtoh(c, c_gpu)"
      ],
      "metadata": {
        "id": "C09HgRc0y3xu"
      },
      "execution_count": null,
      "outputs": []
    },
    {
      "cell_type": "code",
      "source": [
        "#print(a@b)\n",
        "#print(c)\n",
        "\n",
        "print(numpy.max(numpy.abs(c - a@b)))"
      ],
      "metadata": {
        "id": "vKTJ2z1hy6Bu"
      },
      "execution_count": null,
      "outputs": []
    },
    {
      "cell_type": "markdown",
      "source": [
        "B"
      ],
      "metadata": {
        "id": "4lof7cd3y7jb"
      }
    },
    {
      "cell_type": "code",
      "source": [
        "mod6 = SourceModule(\"\"\"\n",
        "  __global__ void multiplyB(float *a, float *b, float *c, int size)\n",
        "  {\n",
        "    int row = threadIdx.x + blockDim.x * blockIdx.x;\n",
        "    int col = threadIdx.y + blockDim.y * blockIdx.y;\n",
        "\n",
        "    if (row < size && col < size){\n",
        "        c[col + row * size] = 0;\n",
        "        for(int i=0; i<size; ++i){\n",
        "            c[col + row * size] += a[i + row * size] * b[col + i * size];\n",
        "        }\n",
        "    }\n",
        "  }\n",
        "  \"\"\")"
      ],
      "metadata": {
        "id": "2lki1L__y-7M"
      },
      "execution_count": null,
      "outputs": []
    },
    {
      "cell_type": "code",
      "source": [
        "size = 56\n",
        "\n",
        "numpy.random.seed(494)\n",
        "\n",
        "a = numpy.random.randn(size,size)\n",
        "a = a.astype(numpy.float32)\n",
        "\n",
        "b = numpy.random.randn(size,size)\n",
        "b = b.astype(numpy.float32)\n",
        "\n",
        "c = numpy.empty_like(a)\n",
        "c = c.astype(numpy.float32)"
      ],
      "metadata": {
        "id": "MPOPEbtnzCMt"
      },
      "execution_count": null,
      "outputs": []
    },
    {
      "cell_type": "code",
      "source": [
        "a_gpu = cuda.mem_alloc(a.nbytes)\n",
        "cuda.memcpy_htod(a_gpu, a)\n",
        "\n",
        "b_gpu = cuda.mem_alloc(b.nbytes)\n",
        "cuda.memcpy_htod(b_gpu, b)\n",
        "\n",
        "c_gpu = cuda.mem_alloc(c.nbytes)"
      ],
      "metadata": {
        "id": "Woa25AbzzEN4"
      },
      "execution_count": null,
      "outputs": []
    },
    {
      "cell_type": "code",
      "source": [
        "block_size = 32\n",
        "grid_size = (size + block_size - 1)"
      ],
      "metadata": {
        "id": "xjOLPTNUzHY3"
      },
      "execution_count": null,
      "outputs": []
    },
    {
      "cell_type": "code",
      "source": [
        "func = mod6.get_function(\"multiplyB\")\n",
        "func(a_gpu, b_gpu, c_gpu, numpy.int32(size), block=(block_size,block_size,1), grid=(grid_size,grid_size,1))"
      ],
      "metadata": {
        "id": "ZdKC5PsjzLQB"
      },
      "execution_count": null,
      "outputs": []
    },
    {
      "cell_type": "code",
      "source": [
        "cuda.memcpy_dtoh(c, c_gpu)"
      ],
      "metadata": {
        "id": "5xpbDKV8zMyU"
      },
      "execution_count": null,
      "outputs": []
    },
    {
      "cell_type": "code",
      "source": [
        "#print(a@b)\n",
        "#print(c)\n",
        "\n",
        "print(numpy.max(numpy.abs(c - a@b)))"
      ],
      "metadata": {
        "id": "HdsXnEGwzOtP"
      },
      "execution_count": null,
      "outputs": []
    },
    {
      "cell_type": "markdown",
      "source": [
        "C"
      ],
      "metadata": {
        "id": "El2plUqpzPMD"
      }
    },
    {
      "cell_type": "code",
      "source": [
        "mod7 = SourceModule(\"\"\"\n",
        "  __global__ void multiplyC(float *a, float *b, float *c, int n, int m, int p)\n",
        "  {\n",
        "    int row = threadIdx.x + blockDim.x * blockIdx.x;\n",
        "    int col = threadIdx.y + blockDim.y * blockIdx.y;\n",
        "\n",
        "    if (row < n && col < m){\n",
        "        c[col + row * m] = 0;\n",
        "        for(int i=0; i<p; ++i){\n",
        "            c[col + row * m] += a[i + row * p] * b[col + i * m];\n",
        "        }\n",
        "    }\n",
        "  }\n",
        "  \"\"\")"
      ],
      "metadata": {
        "id": "lmVk_Tz2zVXQ"
      },
      "execution_count": null,
      "outputs": []
    },
    {
      "cell_type": "code",
      "source": [
        "n = 36\n",
        "p = 48\n",
        "m = 72\n",
        "\n",
        "numpy.random.seed(5867)\n",
        "\n",
        "a = numpy.random.randn(n,p)\n",
        "a = a.astype(numpy.float32)\n",
        "\n",
        "b = numpy.random.randn(p,m)\n",
        "b = b.astype(numpy.float32)\n",
        "\n",
        "c = numpy.zeros([n,m])\n",
        "c = c.astype(numpy.float32)"
      ],
      "metadata": {
        "id": "i7yblVjyzwHe"
      },
      "execution_count": null,
      "outputs": []
    },
    {
      "cell_type": "code",
      "source": [
        "a_gpu = cuda.mem_alloc(a.nbytes)\n",
        "cuda.memcpy_htod(a_gpu, a)\n",
        "\n",
        "b_gpu = cuda.mem_alloc(b.nbytes)\n",
        "cuda.memcpy_htod(b_gpu, b)\n",
        "\n",
        "c_gpu = cuda.mem_alloc(c.nbytes)"
      ],
      "metadata": {
        "id": "qaevEbHgzx-k"
      },
      "execution_count": null,
      "outputs": []
    },
    {
      "cell_type": "code",
      "source": [
        "block_size_x = min(n, 32)\n",
        "grid_size_x = (n + block_size_x - 1) // block_size_x\n",
        "\n",
        "block_size_y = min(m, 32)\n",
        "grid_size_y = (m + block_size_y - 1) // block_size_y"
      ],
      "metadata": {
        "id": "mFC7BksPz0an"
      },
      "execution_count": null,
      "outputs": []
    },
    {
      "cell_type": "code",
      "source": [
        "func = mod7.get_function(\"multiplyC\")\n",
        "func(a_gpu, b_gpu, c_gpu,\n",
        "     numpy.int32(n), numpy.int32(m), numpy.int32(p),\n",
        "     block=(block_size_x,block_size_y,1), grid=(grid_size_x,grid_size_y,1))"
      ],
      "metadata": {
        "id": "36Fzi0cfz7Dw"
      },
      "execution_count": null,
      "outputs": []
    },
    {
      "cell_type": "code",
      "source": [
        "cuda.memcpy_dtoh(c, c_gpu)"
      ],
      "metadata": {
        "id": "PRW_mrwPz8uP"
      },
      "execution_count": null,
      "outputs": []
    },
    {
      "cell_type": "code",
      "source": [
        "#print(a@b)\n",
        "#print(c)\n",
        "\n",
        "print(numpy.max(numpy.abs(c - a@b)))"
      ],
      "metadata": {
        "id": "4Pu2AgDRz-Lk"
      },
      "execution_count": null,
      "outputs": []
    }
  ],
  "metadata": {
    "accelerator": "GPU",
    "colab": {
      "provenance": []
    },
    "kernelspec": {
      "display_name": "Python 3",
      "language": "python",
      "name": "python3"
    },
    "language_info": {
      "codemirror_mode": {
        "name": "ipython",
        "version": 3
      },
      "file_extension": ".py",
      "mimetype": "text/x-python",
      "name": "python",
      "nbconvert_exporter": "python",
      "pygments_lexer": "ipython3",
      "version": "3.8.3"
    }
  },
  "nbformat": 4,
  "nbformat_minor": 0
}